{
  "nbformat": 4,
  "nbformat_minor": 0,
  "metadata": {
    "colab": {
      "provenance": [],
      "include_colab_link": true
    },
    "kernelspec": {
      "name": "python3",
      "display_name": "Python 3"
    },
    "language_info": {
      "name": "python"
    }
  },
  "cells": [
    {
      "cell_type": "markdown",
      "metadata": {
        "id": "view-in-github",
        "colab_type": "text"
      },
      "source": [
        "<a href=\"https://colab.research.google.com/github/Stefan-Physics/physics-class-assignment-2/blob/main/Boost_Stefan_Physics_Assignment_2.ipynb\" target=\"_parent\"><img src=\"https://colab.research.google.com/assets/colab-badge.svg\" alt=\"Open In Colab\"/></a>"
      ]
    },
    {
      "cell_type": "markdown",
      "source": [
        "Sometimes we don't want to write everything ourselves. Sometimes we need to. In this project, we will write a code that defines a function that can boost velocities to new frames. To do that, we don't want to totally reinvent the wheel, and will lean on code bases people have written before. One important one is numpy, which has a huge set of tools."
      ],
      "metadata": {
        "id": "i3O-p_qMyh5Z"
      }
    },
    {
      "cell_type": "code",
      "source": [
        "import numpy as np # this imports numpy but we write np for short, so numpy.array (the array function of numpy) is written np.array. If we wrote import numpy as centauri, then the function numpy.array would be centauri.array "
      ],
      "metadata": {
        "id": "kwxjTy2OsoB9"
      },
      "execution_count": 2,
      "outputs": []
    },
    {
      "cell_type": "markdown",
      "source": [
        "np arrays can give you a list structure you can use as a vector"
      ],
      "metadata": {
        "id": "oOq18VIau05H"
      }
    },
    {
      "cell_type": "code",
      "source": [
        "tempvec=np.array([1,2,3])"
      ],
      "metadata": {
        "id": "wMTMiNbtu89o"
      },
      "execution_count": 3,
      "outputs": []
    },
    {
      "cell_type": "markdown",
      "source": [
        "We can ask questions about this vector, like how long is it? (i.e., how many components?)"
      ],
      "metadata": {
        "id": "RReZDkENvYGQ"
      }
    },
    {
      "cell_type": "code",
      "source": [
        "tempvec.size"
      ],
      "metadata": {
        "colab": {
          "base_uri": "https://localhost:8080/"
        },
        "id": "9iIHGe9MvdF2",
        "outputId": "29fc13c1-e1fa-48c5-e4d4-83752dc63d2d"
      },
      "execution_count": 4,
      "outputs": [
        {
          "output_type": "execute_result",
          "data": {
            "text/plain": [
              "3"
            ]
          },
          "metadata": {},
          "execution_count": 4
        }
      ]
    },
    {
      "cell_type": "markdown",
      "source": [
        "We might also want to extract a single element, like the second one."
      ],
      "metadata": {
        "id": "7hxAw1AcvrE2"
      }
    },
    {
      "cell_type": "code",
      "source": [
        "tempvec.take(2)"
      ],
      "metadata": {
        "colab": {
          "base_uri": "https://localhost:8080/"
        },
        "id": "i0iB8sbMvlSM",
        "outputId": "1f8b662f-bb7e-4578-a8cb-226ba47c271f"
      },
      "execution_count": 4,
      "outputs": [
        {
          "output_type": "execute_result",
          "data": {
            "text/plain": [
              "3"
            ]
          },
          "metadata": {},
          "execution_count": 4
        }
      ]
    },
    {
      "cell_type": "markdown",
      "source": [
        "Wait! That's not the second element of (1,2,3)! This is because np.array has the first element as 0, the second as 1, etc. Don't blame me."
      ],
      "metadata": {
        "id": "ymn8WO6gvuim"
      }
    },
    {
      "cell_type": "code",
      "source": [
        "tempvec.take(0)"
      ],
      "metadata": {
        "colab": {
          "base_uri": "https://localhost:8080/"
        },
        "id": "2aM_k4Ovv2g3",
        "outputId": "4a8c6683-c78e-416e-b83d-34679533c950"
      },
      "execution_count": 5,
      "outputs": [
        {
          "output_type": "execute_result",
          "data": {
            "text/plain": [
              "1"
            ]
          },
          "metadata": {},
          "execution_count": 5
        }
      ]
    },
    {
      "cell_type": "code",
      "source": [
        "tempvec.take(1)"
      ],
      "metadata": {
        "colab": {
          "base_uri": "https://localhost:8080/"
        },
        "id": "V-PQW8V5v4iH",
        "outputId": "9756a257-20b1-4a3f-8c86-ec569eddd966"
      },
      "execution_count": 6,
      "outputs": [
        {
          "output_type": "execute_result",
          "data": {
            "text/plain": [
              "2"
            ]
          },
          "metadata": {},
          "execution_count": 6
        }
      ]
    },
    {
      "cell_type": "markdown",
      "source": [
        "It's very important to be able to define your own functions. Below, we want to find the length of a vector, so we do a for loop. This loops over all the elements in the vector vec, squares them and adds them. We then take the square root and print that."
      ],
      "metadata": {
        "id": "SI4kY83YtjLZ"
      }
    },
    {
      "cell_type": "code",
      "execution_count": 14,
      "metadata": {
        "colab": {
          "base_uri": "https://localhost:8080/"
        },
        "id": "6aMdIQTSscV6",
        "outputId": "78c2d200-930a-469a-ed3e-4302344971b5"
      },
      "outputs": [
        {
          "output_type": "stream",
          "name": "stdout",
          "text": [
            "3.7416573867739413\n"
          ]
        }
      ],
      "source": [
        "def mag(vec): #mag is the function and vec is the argument it will ultimately take\n",
        "  lengthsq=0\n",
        "  for x in vec:\n",
        "    lengthsq += x**2\n",
        "  length=np.sqrt(lengthsq)\n",
        "  print(length)\n",
        "tempvec=np.array([1,2,3])\n",
        "mag(tempvec)"
      ]
    },
    {
      "cell_type": "markdown",
      "source": [
        "Instead of looping over the elements of a vector, I can do a loop over a numerical *range* of elements to do a dot product"
      ],
      "metadata": {
        "id": "sfkhwK1Wv8N1"
      }
    },
    {
      "cell_type": "code",
      "source": [
        "def dot(vec1,vec2):\n",
        "  dotmag=0\n",
        "  for x in range(vec1.size): #this says take all integer values of x in the range of 0 to the size of vec1\n",
        "    dotmag += vec1.take(x) * vec2.take(x)\n",
        "  print(dotmag)\n",
        "tempvec=np.array([1,2,3]) #this is the value of the tempvec(~3.74)\n",
        "dot(tempvec,tempvec) #this gives the values for vec1 and vec2"
      ],
      "metadata": {
        "colab": {
          "base_uri": "https://localhost:8080/"
        },
        "id": "W5Z_2mJgsp9s",
        "outputId": "131a7fb0-3567-4766-e236-380462859178"
      },
      "execution_count": 6,
      "outputs": [
        {
          "output_type": "stream",
          "name": "stdout",
          "text": [
            "14\n"
          ]
        }
      ]
    },
    {
      "cell_type": "code",
      "source": [
        "tempvec1=np.array([0,1,-1])"
      ],
      "metadata": {
        "id": "Z1Ltv1LZv6Mc"
      },
      "execution_count": 10,
      "outputs": []
    },
    {
      "cell_type": "code",
      "source": [
        "dot(tempvec,tempvec1)"
      ],
      "metadata": {
        "colab": {
          "base_uri": "https://localhost:8080/"
        },
        "id": "p-Sw_DFfwWyd",
        "outputId": "ae0d98cb-5c95-4bea-ae7e-4f389e1b6ee3"
      },
      "execution_count": 11,
      "outputs": [
        {
          "output_type": "stream",
          "name": "stdout",
          "text": [
            "-1\n"
          ]
        }
      ]
    },
    {
      "cell_type": "code",
      "source": [
        "c=299792458\n",
        "def boost(vec1,vec2):\n",
        "  boostmagx=0\n",
        "  for x in range(vec1.size):\n",
        "    boostmagx += (vec1.take(x) - vec2.take(x)) / (1-(vec1.take(x)*vec2.take(x)))\n",
        "  print(boostmagx)\n",
        "tempvec1=np.array([0.3])\n",
        "tempvec2=np.array([0.7])\n",
        "boost(tempvec1,tempvec2)\n",
        "\n",
        "def boost(vec1,vec2):\n",
        "  boostmagy=0\n",
        "  for x in range(vec1.size):\n",
        "    boostmagy += (vec1.take(x) - vec2.take(x)) / (1-(vec1.take(x)*vec2.take(x)))\n",
        "  print(boostmagy)\n",
        "tempvec1=np.array([0])\n",
        "tempvec2=np.array([0])\n",
        "boost(tempvec1,tempvec2)\n",
        "\n",
        "def boost(vec1,vec2):\n",
        "  boostmagz=0\n",
        "  for x in range(vec1.size):\n",
        "    boostmagz += (vec1.take(x) - vec2.take(x)) / (1-(vec1.take(x)*vec2.take(x)))\n",
        "  print(boostmagz)\n",
        "tempvec1=np.array([0])\n",
        "tempvec2=np.array([0])\n",
        "boost(tempvec1,tempvec2)\n",
        "\n",
        "tempvec4=np.array([boostmagx, boostmagy, boostmagz])\n"
      ],
      "metadata": {
        "id": "0y8ABMskwl9K",
        "colab": {
          "base_uri": "https://localhost:8080/",
          "height": 261
        },
        "outputId": "f9d78079-5f83-4096-dce9-ba8f68d40651"
      },
      "execution_count": 20,
      "outputs": [
        {
          "output_type": "stream",
          "name": "stdout",
          "text": [
            "-0.5063291139240506\n",
            "0.0\n",
            "0.0\n"
          ]
        },
        {
          "output_type": "error",
          "ename": "NameError",
          "evalue": "ignored",
          "traceback": [
            "\u001b[0;31m---------------------------------------------------------------------------\u001b[0m",
            "\u001b[0;31mNameError\u001b[0m                                 Traceback (most recent call last)",
            "\u001b[0;32m<ipython-input-20-b67ea563a151>\u001b[0m in \u001b[0;36m<module>\u001b[0;34m\u001b[0m\n\u001b[1;32m     27\u001b[0m \u001b[0mboost\u001b[0m\u001b[0;34m(\u001b[0m\u001b[0mtempvec1\u001b[0m\u001b[0;34m,\u001b[0m\u001b[0mtempvec2\u001b[0m\u001b[0;34m)\u001b[0m\u001b[0;34m\u001b[0m\u001b[0;34m\u001b[0m\u001b[0m\n\u001b[1;32m     28\u001b[0m \u001b[0;34m\u001b[0m\u001b[0m\n\u001b[0;32m---> 29\u001b[0;31m \u001b[0mtempvec4\u001b[0m\u001b[0;34m=\u001b[0m\u001b[0mnp\u001b[0m\u001b[0;34m.\u001b[0m\u001b[0marray\u001b[0m\u001b[0;34m(\u001b[0m\u001b[0;34m[\u001b[0m \u001b[0mboostmagy\u001b[0m\u001b[0;34m,\u001b[0m \u001b[0mboostmagz\u001b[0m\u001b[0;34m]\u001b[0m\u001b[0;34m)\u001b[0m\u001b[0;34m\u001b[0m\u001b[0;34m\u001b[0m\u001b[0m\n\u001b[0m",
            "\u001b[0;31mNameError\u001b[0m: name 'boostmagy' is not defined"
          ]
        }
      ]
    },
    {
      "cell_type": "markdown",
      "source": [
        "**Assignment**"
      ],
      "metadata": {
        "id": "rqbjTbOC0XQ6"
      }
    },
    {
      "cell_type": "code",
      "source": [
        "def boost(vec1,vec2):\n",
        "  boostmag=0\n",
        "  for x in range(vec1.size):\n",
        "    boostmag += (vec1.take(x) - vec2.take(x)) / (1-(vec1.take(x)*vec2.take(x)))\n",
        "  print(boostmag)\n",
        "tempvec2=np.array([0,0.4,0])\n",
        "tempvec3=np.array([0.7,0,0])\n",
        "boost(tempvec2,tempvec3)\n"
      ],
      "metadata": {
        "colab": {
          "base_uri": "https://localhost:8080/"
        },
        "id": "y9XP94ijVO9G",
        "outputId": "c60c4f9d-1e51-4994-b3cc-f0c2308bd309"
      },
      "execution_count": 8,
      "outputs": [
        {
          "output_type": "stream",
          "name": "stdout",
          "text": [
            "-0.29999999999999993\n"
          ]
        }
      ]
    },
    {
      "cell_type": "code",
      "source": [
        "def boost(vec1,vec2):\n",
        "  boostmag=0\n",
        "  for x in range(vec1.size):\n",
        "    boostmag += (vec1.take(x) - vec2.take(x)) / (1-(vec1.take(x)*vec2.take(x)))\n",
        "  print(boostmag)\n",
        "tempvec2=np.array([0.5,0.5,0])\n",
        "tempvec3=np.array([0.7,0,0])\n",
        "boost(tempvec2,tempvec3)\n"
      ],
      "metadata": {
        "colab": {
          "base_uri": "https://localhost:8080/"
        },
        "id": "eCJ4gbA0YukH",
        "outputId": "47bcfcd6-ebba-48e0-a701-40f8d2a951f2"
      },
      "execution_count": 9,
      "outputs": [
        {
          "output_type": "stream",
          "name": "stdout",
          "text": [
            "0.1923076923076924\n"
          ]
        }
      ]
    },
    {
      "cell_type": "markdown",
      "source": [
        "Write a code to define a relativistic *boost* function, that will take an input velocity vector and a frame vector and will then output the velocity vector in the new frame. For a consider an observer (Curie) moving with velocity of (0.7,0,0) relative to Einstein. What velocity does she see for objects that Einstein measures to move at (0.3,0,0), (0,0.4,0) and (0.5,0.5,0), where all velocities are in units of c."
      ],
      "metadata": {
        "id": "xwFqstxHxOoH"
      }
    }
  ]
}